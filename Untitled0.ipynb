{
  "nbformat": 4,
  "nbformat_minor": 0,
  "metadata": {
    "colab": {
      "provenance": [],
      "authorship_tag": "ABX9TyOQhcdkTw/7SSulvzkKtbah",
      "include_colab_link": true
    },
    "kernelspec": {
      "name": "python3",
      "display_name": "Python 3"
    },
    "language_info": {
      "name": "python"
    }
  },
  "cells": [
    {
      "cell_type": "markdown",
      "metadata": {
        "id": "view-in-github",
        "colab_type": "text"
      },
      "source": [
        "<a href=\"https://colab.research.google.com/github/ZachPreston/newGitTest/blob/master/Untitled0.ipynb\" target=\"_parent\"><img src=\"https://colab.research.google.com/assets/colab-badge.svg\" alt=\"Open In Colab\"/></a>"
      ]
    },
    {
      "cell_type": "code",
      "source": [
        "import matplotlib.pyplot as plt\n",
        "import matplotlib.patches as patches\n",
        "import numpy as np\n",
        "\n",
        "# Create figure and axis\n",
        "fig, ax = plt.subplots(figsize=(8, 8))\n",
        "ax.set_aspect('equal')\n",
        "plt.xlim(-1.2, 1.2)\n",
        "plt.ylim(-1.2, 1.2)\n",
        "ax.set_facecolor('white')\n",
        "\n",
        "# Hide default axes\n",
        "ax.set_xticks([])\n",
        "ax.set_yticks([])\n",
        "\n",
        "# Draw complex plane axes\n",
        "ax.axhline(0, color='gray', linewidth=2)  # Real axis\n",
        "ax.axvline(0, color='gray', linewidth=2)  # Imaginary axis\n",
        "ax.text(1.1, 0, 'Re', ha='center', va='center', fontsize=12)  # Real label\n",
        "ax.text(0, 1.1, 'Im', ha='center', va='center', fontsize=12)  # Imaginary label\n",
        "\n",
        "# Draw unit circle\n",
        "unit_circle = plt.Circle((0, 0), 1, color='blue', fill=False, linewidth=2)\n",
        "ax.add_patch(unit_circle)\n",
        "\n",
        "# Draw e^(iπ) vector (red arrow)\n",
        "ax.annotate('', xy=(-1, 0), xytext=(0, 0),\n",
        "            arrowprops=dict(arrowstyle='->', color='red', linewidth=2))\n",
        "ax.text(-0.5, 0.1, r'$e^{i\\pi} = -1$', color='red', fontsize=12, ha='center')\n",
        "\n",
        "# Draw +1 vector (green arrow)\n",
        "ax.annotate('', xy=(0, 0), xytext=(-1, 0),\n",
        "            arrowprops=dict(arrowstyle='->', color='green', linewidth=2))\n",
        "ax.text(-0.5, -0.1, '+1', color='green', fontsize=12, ha='center')\n",
        "\n",
        "# Draw resultant zero point\n",
        "ax.plot(0, 0, 'go', markersize=10, markeredgecolor='green', markerfacecolor='green')\n",
        "\n",
        "# Add Euler's identity text\n",
        "ax.text(0, 1.25, r'$e^{i\\pi} + 1 = 0$', fontsize=24, ha='center')\n",
        "\n",
        "# Save and show\n",
        "plt.savefig('euler_identity_python.png', bbox_inches='tight')\n",
        "plt.show()"
      ],
      "metadata": {
        "id": "77kYod7w--pB"
      },
      "execution_count": null,
      "outputs": []
    }
  ]
}